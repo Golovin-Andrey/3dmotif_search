{
  "nbformat": 4,
  "nbformat_minor": 0,
  "metadata": {
    "colab": {
      "provenance": [],
      "include_colab_link": true
    },
    "kernelspec": {
      "name": "python3",
      "display_name": "Python 3"
    },
    "language_info": {
      "name": "python"
    }
  },
  "cells": [
    {
      "cell_type": "markdown",
      "metadata": {
        "id": "view-in-github",
        "colab_type": "text"
      },
      "source": [
        "<a href=\"https://colab.research.google.com/github/Golovin-Andrey/3dmotif_search/blob/main/motif_search.ipynb\" target=\"_parent\"><img src=\"https://colab.research.google.com/assets/colab-badge.svg\" alt=\"Open In Colab\"/></a>"
      ]
    },
    {
      "cell_type": "code",
      "source": [
        "#@title Install ProDy\n",
        "!pip install -U ProDy"
      ],
      "metadata": {
        "cellView": "form",
        "id": "d1jakq-IpfTI",
        "colab": {
          "base_uri": "https://localhost:8080/"
        },
        "outputId": "d20ab06a-2b33-4ff1-d813-af324d788619"
      },
      "execution_count": null,
      "outputs": [
        {
          "output_type": "stream",
          "name": "stdout",
          "text": [
            "Looking in indexes: https://pypi.org/simple, https://us-python.pkg.dev/colab-wheels/public/simple/\n",
            "Collecting ProDy\n",
            "  Downloading ProDy-2.3.1.tar.gz (12.8 MB)\n",
            "\u001b[K     |████████████████████████████████| 12.8 MB 5.2 MB/s \n",
            "\u001b[?25hRequirement already satisfied: numpy>=1.10 in /usr/local/lib/python3.8/dist-packages (from ProDy) (1.21.6)\n",
            "Collecting biopython\n",
            "  Downloading biopython-1.80-cp38-cp38-manylinux_2_17_x86_64.manylinux2014_x86_64.whl (3.1 MB)\n",
            "\u001b[K     |████████████████████████████████| 3.1 MB 43.4 MB/s \n",
            "\u001b[?25hRequirement already satisfied: pyparsing in /usr/local/lib/python3.8/dist-packages (from ProDy) (3.0.9)\n",
            "Requirement already satisfied: scipy in /usr/local/lib/python3.8/dist-packages (from ProDy) (1.7.3)\n",
            "Building wheels for collected packages: ProDy\n",
            "  Building wheel for ProDy (setup.py) ... \u001b[?25l\u001b[?25hdone\n",
            "  Created wheel for ProDy: filename=ProDy-2.3.1-cp38-cp38-linux_x86_64.whl size=11750346 sha256=d7cd688debfef0e8c48a44f60a35acc402570b379ed6e45ee514199e9c4cb62c\n",
            "  Stored in directory: /root/.cache/pip/wheels/fe/70/79/df801d96836c4ab4d3850a6bba7370cc21a66599b5bc05b616\n",
            "Successfully built ProDy\n",
            "Installing collected packages: biopython, ProDy\n",
            "Successfully installed ProDy-2.3.1 biopython-1.80\n"
          ]
        }
      ]
    },
    {
      "cell_type": "code",
      "execution_count": null,
      "metadata": {
        "cellView": "form",
        "id": "DHT_OOzKj4OM"
      },
      "outputs": [],
      "source": [
        "#@title Import nessesary stuff\n",
        "\n",
        "import prody as pd\n",
        "import numpy as np\n",
        "from os import listdir\n",
        "import pickle\n",
        "import matplotlib.pyplot as plt\n",
        "\n",
        "#import itertools\n",
        "import networkx as nx\n",
        "import itertools\n",
        "import time\n",
        "from io import StringIO\n",
        "import pandas\n",
        "import random\n",
        "from copy import copy\n",
        "import os, sys\n",
        "import shutil"
      ]
    },
    {
      "cell_type": "code",
      "source": [
        "#@title Mount Drive\n",
        "\n",
        "# Load the Drive helper and mount\n",
        "from google.colab import drive\n",
        "\n",
        "# This will prompt for authorization.\n",
        "drive.mount('/content/drive', force_remount=True)\n",
        "\n",
        "try:\n",
        "  os.makedirs('/content/drive/MyDrive/motif')\n",
        "except:\n",
        "  print ('motif folder already exists')\n"
      ],
      "metadata": {
        "cellView": "form",
        "id": "z31_r1LHklcI",
        "colab": {
          "base_uri": "https://localhost:8080/"
        },
        "outputId": "7b1a1cff-846c-4fc5-ba62-7cad61011b62"
      },
      "execution_count": null,
      "outputs": [
        {
          "output_type": "stream",
          "name": "stdout",
          "text": [
            "Mounted at /content/drive\n",
            "motif folder already exists\n"
          ]
        }
      ]
    },
    {
      "cell_type": "code",
      "source": [
        "cd /content/drive/MyDrive/motif"
      ],
      "metadata": {
        "id": "8TtpeA-EqBJP"
      },
      "execution_count": null,
      "outputs": []
    },
    {
      "cell_type": "code",
      "source": [
        "#@title Setup workdir\n",
        "\n",
        "try:\n",
        "  os.makedirs('/content/drive/MyDrive/motif/scripts')\n",
        "  os.makedirs('/content/drive/MyDrive/motif/dump')\n",
        "except:\n",
        "  pass\n",
        "t=time.time()\n",
        "os.makedirs('/content/drive/MyDrive/motif/'+str(t))\n",
        "\n",
        "print ('executing at /content/drive/MyDrive/motif/'+str(t))"
      ],
      "metadata": {
        "id": "oSdZ4-XdtIlG",
        "cellView": "form"
      },
      "execution_count": null,
      "outputs": []
    },
    {
      "cell_type": "code",
      "source": [
        "#@title Download scripts\n",
        "%%bash\n",
        "\n",
        "cd /content/drive/MyDrive/motif/scripts/\n",
        "rm *\n",
        "wget https://vsb.fbb.msu.ru/share/motif/pdb_to_hash.py \n",
        "wget https://vsb.fbb.msu.ru/share/motif/reorg_hash.py \n",
        "wget https://vsb.fbb.msu.ru/share/motif/bins.py \n",
        "wget https://vsb.fbb.msu.ru/share/motif/search_save.py\n",
        "wget https://vsb.fbb.msu.ru/share/motif/download_bins.bash\n",
        "\n",
        "wget https://vsb.fbb.msu.ru/share/motif/m.pdb \n",
        "wget https://vsb.fbb.msu.ru/share/motif/4hfz.pdb\n",
        "wget https://vsb.fbb.msu.ru/share/motif/6ggn.pdb"
      ],
      "metadata": {
        "id": "VwYATOp9uGJI",
        "cellView": "form"
      },
      "execution_count": null,
      "outputs": []
    },
    {
      "cell_type": "code",
      "source": [
        "#@title Optional: upload custom scaffolds\n",
        "#@markdown -  upload and process pdb to search motive in \n",
        "#@markdown -  alternatively - search in CATH S40 Non-redundant dataset \n",
        "\n",
        "from google.colab import files\n",
        "use_custom_scaffolds = False #@param {type:\"boolean\"}\n",
        "\n",
        "use_example = True #@param {type:\"boolean\"}\n",
        "\n",
        "if use_example == True:\n",
        "  uploaded = ['6ggn.pdb','4hfz.pdb']\n",
        "  for i in uploaded:\n",
        "    shutil.move('/content/drive/MyDrive/motif/scripts/'+i, '/content/drive/MyDrive/motif/dump/'+i)\n",
        "\n",
        "if use_example == True:\n",
        "  for i in uploaded:\n",
        "    print (i)\n",
        "    !cd /content/drive/MyDrive/motif/dump ; python /content/drive/MyDrive/motif/scripts/pdb_to_hash.py /content/drive/MyDrive/motif/dump/{i} /content/drive/MyDrive/motif/{t}/hash /content/drive/MyDrive/motif/{t}/dict\n",
        "    !python /content/drive/MyDrive/motif/scripts/reorg_hash.py /content/drive/MyDrive/motif/{t}/hash/ /content/drive/MyDrive/motif/{t}/hash_reorg/\n",
        "\n",
        "else:\n",
        "  if use_custom_scaffolds == True:\n",
        "  \n",
        "    uploaded = files.upload()\n",
        "    for i in uploaded:\n",
        "      shutil.move('./'+i, '/content/drive/MyDrive/motif/dump/'+i)\n",
        "\n",
        "\n",
        "  if use_custom_scaffolds == True:\n",
        "    for i in uploaded:\n",
        "      print (i)\n",
        "      !cd /content/drive/MyDrive/motif/dump ; python /content/drive/MyDrive/motif/scripts/pdb_to_hash.py /content/drive/MyDrive/motif/dump/{i} /content/drive/MyDrive/motif/{t}/hash /content/drive/MyDrive/motif/{t}/dict\n",
        "      !python /content/drive/MyDrive/motif/scripts/reorg_hash.py /content/drive/MyDrive/motif/{t}/hash/ /content/drive/MyDrive/motif/{t}/hash_reorg/\n",
        "\n"
      ],
      "metadata": {
        "id": "aD_o-Len0NdV",
        "cellView": "form"
      },
      "execution_count": null,
      "outputs": []
    },
    {
      "cell_type": "code",
      "source": [
        "#@title Upload motif pdb\n",
        "\n",
        " \n",
        "\n",
        "use_example_motif = True #@param {type:\"boolean\"}\n",
        "\n",
        "if not use_example_motif:\n",
        "\n",
        "  motif_list = files.upload()\n",
        "  for i in motif_list:\n",
        "\n",
        "    shutil.move('./'+i, '/content/drive/MyDrive/motif/'+str(t)+'/motif.pdb')\n",
        "else:\n",
        "  shutil.move('/content/drive/MyDrive/motif/scripts//m.pdb', '/content/drive/MyDrive/motif/'+str(t)+'/motif.pdb')\n"
      ],
      "metadata": {
        "id": "5DA_ZjX-4FSt",
        "cellView": "form"
      },
      "execution_count": null,
      "outputs": []
    },
    {
      "cell_type": "code",
      "source": [
        "#@title Select search tolerance\n",
        "\n",
        "\n",
        "dx = 1 #@param [1,2,3,4,5] {type:\"raw\"}\n",
        "ax = 1 #@param [1,2,3,4,5,6] {type:\"raw\"}\n",
        "bx = 1 #@param [1,2,3,4,5,6] {type:\"raw\"}\n",
        "tx = 1 #@param [1,2,3] {type:\"raw\"}\n",
        "nx = 1 #@param [1,2,3] {type:\"raw\"}\n",
        "mx = 1 #@param [1,2,3] {type:\"raw\"}\n",
        "\n",
        "!python /content/drive/MyDrive/motif/scripts/bins.py {t} {dx} {ax} {bx} {tx} {nx} {mx}"
      ],
      "metadata": {
        "id": "FkefkZTsvcrX",
        "cellView": "form"
      },
      "execution_count": null,
      "outputs": []
    },
    {
      "cell_type": "code",
      "source": [
        "#@title Download/copy bins for search\n",
        "if use_example == True: \n",
        "  use_custom_scaffolds == True\n",
        "!bash /content/drive/MyDrive/motif/scripts/download_bins.bash {use_custom_scaffolds} {t} 2>/dev/null"
      ],
      "metadata": {
        "id": "mRMmSehmNhTT",
        "cellView": "form"
      },
      "execution_count": null,
      "outputs": []
    },
    {
      "cell_type": "code",
      "source": [
        "#@title Defining found pdb structures\n",
        "pdblist = []\n",
        "if use_custom_scaffolds == True:\n",
        "  for i in uploaded:\n",
        "    print (i)\n",
        "    pdblist = pdblist + [str(i)[:-4]]\n",
        "else:\n",
        "  ls = os.listdir('/content/drive/MyDrive/motif/'+str(t)+'/pulled_bins/')\n",
        "  ppp = {}\n",
        "  for i in ls:\n",
        "    ppp[i] = os.listdir('/content/drive/MyDrive/motif/'+str(t)+'/pulled_bins/'+i)\n",
        "  for k in sorted(ppp, key=lambda k: len(ppp[k]), reverse=True):\n",
        "        pdblist = ppp[k]\n",
        "\n",
        "  \n",
        "print (pdblist)"
      ],
      "metadata": {
        "id": "7WeaK7mgveBV",
        "cellView": "form"
      },
      "execution_count": null,
      "outputs": []
    },
    {
      "cell_type": "code",
      "source": [
        "#@title Saving results\n",
        "\n",
        "%%bash -s \"$t\" \"$use_custom_scaffolds\" \"$pdblist\" \n",
        "\n",
        "if [[ $2 == 'False' ]]; \n",
        "then cd /content/drive/MyDrive/motif/dump/; for i in $3; do b=$(echo $i | sed 's/[^0-9a-z]*//g'); echo $b ; wget https://vsb.fbb.msu.ru/share/motif/dompdb/$b ; done;\n",
        "fi\n",
        "\n",
        "for i in $3; do b=$(echo $i | sed 's/[^0-9a-z]*//g'); echo $b ; python /content/drive/MyDrive/motif/scripts/search_save.py $b $1 ;done"
      ],
      "metadata": {
        "id": "jyubzcSfvhXG",
        "cellView": "form"
      },
      "execution_count": null,
      "outputs": []
    },
    {
      "cell_type": "code",
      "source": [
        "print (\"results:\", '/content/drive/MyDrive/motif/'+str(t)+'/results')\n",
        "\n",
        "!ls /content/drive/MyDrive/motif/{t}/results"
      ],
      "metadata": {
        "id": "2mXHHH-oNQGX"
      },
      "execution_count": null,
      "outputs": []
    },
    {
      "cell_type": "code",
      "source": [],
      "metadata": {
        "id": "dP7Yxgx5NRz6"
      },
      "execution_count": null,
      "outputs": []
    }
  ]
}