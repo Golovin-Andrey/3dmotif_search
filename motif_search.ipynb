{
  "nbformat": 4,
  "nbformat_minor": 0,
  "metadata": {
    "colab": {
      "provenance": []
    },
    "kernelspec": {
      "name": "python3",
      "display_name": "Python 3"
    },
    "language_info": {
      "name": "python"
    }
  },
  "cells": [
    {
      "cell_type": "code",
      "source": [
        "#@title Install ProDy\n",
        "!pip install -U ProDy"
      ],
      "metadata": {
        "cellView": "form",
        "id": "d1jakq-IpfTI"
      },
      "execution_count": null,
      "outputs": []
    },
    {
      "cell_type": "code",
      "execution_count": null,
      "metadata": {
        "cellView": "form",
        "id": "DHT_OOzKj4OM"
      },
      "outputs": [],
      "source": [
        "#@title Import nessesary stuff\n",
        "\n",
        "import prody as pd\n",
        "import numpy as np\n",
        "from os import listdir\n",
        "import pickle\n",
        "import matplotlib.pyplot as plt\n",
        "\n",
        "#import itertools\n",
        "import networkx as nx\n",
        "import itertools\n",
        "import time\n",
        "from io import StringIO\n",
        "import pandas\n",
        "import random\n",
        "from copy import copy\n",
        "import os, sys\n",
        "import shutil"
      ]
    },
    {
      "cell_type": "code",
      "source": [
        "#@title Mount Drive\n",
        "\n",
        "# Load the Drive helper and mount\n",
        "from google.colab import drive\n",
        "\n",
        "# This will prompt for authorization.\n",
        "drive.mount('/content/drive', force_remount=True)\n",
        "\n",
        "try:\n",
        "  os.makedirs('/content/drive/MyDrive/motif')\n",
        "except:\n",
        "  print ('motif folder already exists')\n"
      ],
      "metadata": {
        "cellView": "form",
        "id": "z31_r1LHklcI"
      },
      "execution_count": null,
      "outputs": []
    },
    {
      "cell_type": "code",
      "source": [
        "cd /content/drive/MyDrive/motif"
      ],
      "metadata": {
        "id": "8TtpeA-EqBJP"
      },
      "execution_count": null,
      "outputs": []
    },
    {
      "cell_type": "code",
      "source": [
        "#@title Setup workdir\n",
        "\n",
        "try:\n",
        "  os.makedirs('/content/drive/MyDrive/motif/scripts')\n",
        "  os.makedirs('/content/drive/MyDrive/motif/dump')\n",
        "except:\n",
        "  pass\n",
        "t=time.time()\n",
        "os.makedirs('/content/drive/MyDrive/motif/'+str(t))\n",
        "\n",
        "print ('executing at /content/drive/MyDrive/motif/'+str(t))"
      ],
      "metadata": {
        "id": "oSdZ4-XdtIlG"
      },
      "execution_count": null,
      "outputs": []
    },
    {
      "cell_type": "code",
      "source": [
        "#@title Download scripts\n",
        "%%bash\n",
        "\n",
        "cd /content/drive/MyDrive/motif/scripts/\n",
        "rm *\n",
        "wget https://vsb.fbb.msu.ru/share/motif/pdb_to_hash.py \n",
        "wget https://vsb.fbb.msu.ru/share/motif/reorg_hash.py \n",
        "wget https://vsb.fbb.msu.ru/share/motif/bins.py \n",
        "wget https://vsb.fbb.msu.ru/share/motif/search_save.py\n",
        "wget https://vsb.fbb.msu.ru/share/motif/download_bins.bash\n",
        "\n",
        "wget https://vsb.fbb.msu.ru/share/motif/m.pdb \n",
        "wget https://vsb.fbb.msu.ru/share/motif/4hfz.pdb\n",
        "wget https://vsb.fbb.msu.ru/share/motif/6ggn.pdb"
      ],
      "metadata": {
        "id": "VwYATOp9uGJI"
      },
      "execution_count": null,
      "outputs": []
    },
    {
      "cell_type": "code",
      "source": [
        "#@title Optional: upload custom scaffolds\n",
        "#@markdown -  upload and process pdb to search motive in \n",
        "#@markdown -  alternatively - search in CATH S40 Non-redundant dataset \n",
        "\n",
        "from google.colab import files\n",
        "use_custom_scaffolds = False #@param {type:\"boolean\"}\n",
        "\n",
        "use_example = True #@param {type:\"boolean\"}\n",
        "\n",
        "if use_example == True:\n",
        "  uploaded = ['6ggn.pdb','4hfz.pdb']\n",
        "  for i in uploaded:\n",
        "    shutil.move('/content/drive/MyDrive/motif/scripts/'+i, '/content/drive/MyDrive/motif/dump/'+i)\n",
        "\n",
        "if use_example == True:\n",
        "  for i in uploaded:\n",
        "    print (i)\n",
        "    !cd /content/drive/MyDrive/motif/dump ; python /content/drive/MyDrive/motif/scripts/pdb_to_hash.py /content/drive/MyDrive/motif/dump/{i} /content/drive/MyDrive/motif/{t}/hash /content/drive/MyDrive/motif/{t}/dict\n",
        "    !python /content/drive/MyDrive/motif/scripts/reorg_hash.py /content/drive/MyDrive/motif/{t}/hash/ /content/drive/MyDrive/motif/{t}/hash_reorg/\n",
        "\n",
        "else:\n",
        "  if use_custom_scaffolds == True:\n",
        "  \n",
        "    uploaded = files.upload()\n",
        "    for i in uploaded:\n",
        "      shutil.move('./'+i, '/content/drive/MyDrive/motif/dump/'+i)\n",
        "\n",
        "\n",
        "  if use_custom_scaffolds == True:\n",
        "    for i in uploaded:\n",
        "      print (i)\n",
        "      !cd /content/drive/MyDrive/motif/dump ; python /content/drive/MyDrive/motif/scripts/pdb_to_hash.py /content/drive/MyDrive/motif/dump/{i} /content/drive/MyDrive/motif/{t}/hash /content/drive/MyDrive/motif/{t}/dict\n",
        "      !python /content/drive/MyDrive/motif/scripts/reorg_hash.py /content/drive/MyDrive/motif/{t}/hash/ /content/drive/MyDrive/motif/{t}/hash_reorg/\n",
        "\n"
      ],
      "metadata": {
        "id": "aD_o-Len0NdV"
      },
      "execution_count": null,
      "outputs": []
    },
    {
      "cell_type": "code",
      "source": [
        "#@title Upload motif pdb\n",
        "\n",
        " \n",
        "\n",
        "use_example_motif = True #@param {type:\"boolean\"}\n",
        "\n",
        "if not use_example_motif:\n",
        "\n",
        "  motif_list = files.upload()\n",
        "  for i in motif_list:\n",
        "\n",
        "    shutil.move('./'+i, '/content/drive/MyDrive/motif/'+str(t)+'/motif.pdb')\n",
        "else:\n",
        "  shutil.move('/content/drive/MyDrive/motif/scripts//m.pdb', '/content/drive/MyDrive/motif/'+str(t)+'/motif.pdb')\n"
      ],
      "metadata": {
        "id": "5DA_ZjX-4FSt"
      },
      "execution_count": null,
      "outputs": []
    },
    {
      "cell_type": "code",
      "source": [
        "#@title Select search tolerance\n",
        "\n",
        "\n",
        "dx = 1 #@param [1,2,3,4,5] {type:\"raw\"}\n",
        "ax = 1 #@param [1,2,3,4,5,6] {type:\"raw\"}\n",
        "bx = 1 #@param [1,2,3,4,5,6] {type:\"raw\"}\n",
        "tx = 1 #@param [1,2,3] {type:\"raw\"}\n",
        "nx = 1 #@param [1,2,3] {type:\"raw\"}\n",
        "mx = 1 #@param [1,2,3] {type:\"raw\"}\n",
        "\n",
        "!python /content/drive/MyDrive/motif/scripts/bins.py {t} {dx} {ax} {bx} {tx} {nx} {mx}"
      ],
      "metadata": {
        "id": "FkefkZTsvcrX"
      },
      "execution_count": null,
      "outputs": []
    },
    {
      "cell_type": "code",
      "source": [
        "#@title Download/copy bins for search\n",
        "if use_example == True: \n",
        "  use_custom_scaffolds == True\n",
        "!bash /content/drive/MyDrive/motif/scripts/download_bins.bash {use_custom_scaffolds} {t} 2>/dev/null"
      ],
      "metadata": {
        "id": "mRMmSehmNhTT"
      },
      "execution_count": null,
      "outputs": []
    },
    {
      "cell_type": "code",
      "source": [
        "#@title Defining found pdb structures\n",
        "pdblist = []\n",
        "if use_custom_scaffolds == True:\n",
        "  for i in uploaded:\n",
        "    print (i)\n",
        "    pdblist = pdblist + [str(i)[:-4]]\n",
        "else:\n",
        "  ls = os.listdir('/content/drive/MyDrive/motif/'+str(t)+'/pulled_bins/')\n",
        "  ppp = {}\n",
        "  for i in ls:\n",
        "    ppp[i] = os.listdir('/content/drive/MyDrive/motif/'+str(t)+'/pulled_bins/'+i)\n",
        "  for k in sorted(ppp, key=lambda k: len(ppp[k]), reverse=True):\n",
        "        pdblist = ppp[k]\n",
        "\n",
        "  \n",
        "print (pdblist)"
      ],
      "metadata": {
        "id": "7WeaK7mgveBV"
      },
      "execution_count": null,
      "outputs": []
    },
    {
      "cell_type": "code",
      "source": [
        "#@title Saving results\n",
        "\n",
        "%%bash -s \"$t\" \"$use_custom_scaffolds\" \"$pdblist\" \n",
        "\n",
        "if [[ $2 == 'False' ]]; \n",
        "then cd /content/drive/MyDrive/motif/dump/; for i in $3; do b=$(echo $i | sed 's/[^0-9a-z]*//g'); echo $b ; wget https://vsb.fbb.msu.ru/share/motif/dompdb/$b ; done;\n",
        "fi\n",
        "\n",
        "for i in $3; do b=$(echo $i | sed 's/[^0-9a-z]*//g'); echo $b ; python /content/drive/MyDrive/motif/scripts/search_save.py $b $1 ;done"
      ],
      "metadata": {
        "id": "jyubzcSfvhXG"
      },
      "execution_count": null,
      "outputs": []
    },
    {
      "cell_type": "code",
      "source": [
        "print (\"results:\", '/content/drive/MyDrive/motif/'+str(t)+'/results')\n",
        "\n",
        "!ls /content/drive/MyDrive/motif/{t}/results"
      ],
      "metadata": {
        "id": "2mXHHH-oNQGX"
      },
      "execution_count": null,
      "outputs": []
    },
    {
      "cell_type": "code",
      "source": [],
      "metadata": {
        "id": "dP7Yxgx5NRz6"
      },
      "execution_count": null,
      "outputs": []
    }
  ]
}